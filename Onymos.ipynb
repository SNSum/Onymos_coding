{
 "cells": [
  {
   "cell_type": "code",
   "execution_count": 27,
   "id": "4fa07c92-52cd-4327-a2d4-25431e2080c5",
   "metadata": {},
   "outputs": [],
   "source": [
    "import random\n",
    "import time\n",
    "import threading"
   ]
  },
  {
   "cell_type": "code",
   "execution_count": 29,
   "id": "341ee251-18d8-4300-aaac-6668b01c59a3",
   "metadata": {},
   "outputs": [
    {
     "name": "stdout",
     "output_type": "stream",
     "text": [
      "Matched: 5 shares of TICKER521 at $74.63\n",
      "Matched: 89 shares of TICKER957 at $12.39\n",
      "Matched: 7 shares of TICKER207 at $31.02\n",
      "Matched: 80 shares of TICKER543 at $54.40\n",
      "Matched: 62 shares of TICKER902 at $26.08\n",
      "Matched: 8 shares of TICKER353 at $3.89\n",
      "Matched: 14 shares of TICKER470 at $47.76\n",
      "Matched: 57 shares of TICKER857 at $34.93\n",
      "Matched: 33 shares of TICKER297 at $32.89\n",
      "Matched: 20 shares of TICKER425 at $13.96\n",
      "Matched: 11 shares of TICKER410 at $28.17\n",
      "Matched: 25 shares of TICKER267 at $73.36\n"
     ]
    },
    {
     "ename": "KeyboardInterrupt",
     "evalue": "",
     "output_type": "error",
     "traceback": [
      "\u001b[1;31m---------------------------------------------------------------------------\u001b[0m",
      "\u001b[1;31mKeyboardInterrupt\u001b[0m                         Traceback (most recent call last)",
      "Cell \u001b[1;32mIn[29], line 70\u001b[0m\n\u001b[0;32m     67\u001b[0m matchingThread \u001b[38;5;241m=\u001b[39m threading\u001b[38;5;241m.\u001b[39mThread(target\u001b[38;5;241m=\u001b[39mmatchOrder)\n\u001b[0;32m     68\u001b[0m matchingThread\u001b[38;5;241m.\u001b[39mstart()\n\u001b[1;32m---> 70\u001b[0m simulateStocks()\n",
      "Cell \u001b[1;32mIn[29], line 65\u001b[0m, in \u001b[0;36msimulateStocks\u001b[1;34m()\u001b[0m\n\u001b[0;32m     62\u001b[0m price \u001b[38;5;241m=\u001b[39m \u001b[38;5;28mround\u001b[39m(random\u001b[38;5;241m.\u001b[39muniform(\u001b[38;5;241m0.01\u001b[39m, \u001b[38;5;241m100.00\u001b[39m), \u001b[38;5;241m2\u001b[39m)\n\u001b[0;32m     64\u001b[0m addOrder(orderType, tickerSymbol, quantity, price)\n\u001b[1;32m---> 65\u001b[0m time\u001b[38;5;241m.\u001b[39msleep(\u001b[38;5;241m1\u001b[39m)\n",
      "\u001b[1;31mKeyboardInterrupt\u001b[0m: "
     ]
    }
   ],
   "source": [
    "buyOrders = []\n",
    "sellOrders = []\n",
    "lock = threading.Lock()\n",
    "\n",
    "def addOrder(orderType, tickerSymbol, quantity, price):\n",
    "    order = (tickerSymbol, quantity, price)\n",
    "\n",
    "    with lock:\n",
    "        if orderType == \"Buy\":\n",
    "            buyOrders.append(order)\n",
    "        elif orderType == \"Sell\":\n",
    "            sellOrders.append(order)\n",
    "\n",
    "def matchOrder():\n",
    "    while True:\n",
    "        with lock:\n",
    "            matchedBuyIndices = []\n",
    "            matchedSellIndices = []\n",
    "\n",
    "            for i in range(len(buyOrders)):\n",
    "                buyOrder = buyOrders[i]\n",
    "                ticker, buyQuantity, buyPrice = buyOrder\n",
    "\n",
    "                for j in range(len(sellOrders)):\n",
    "                    sellOrder = sellOrders[j]\n",
    "                    sellTicker, sellQuantity, sellPrice = sellOrder\n",
    "\n",
    "                    if ticker == sellTicker and buyPrice >= sellPrice:\n",
    "                        matchedQuantity = min(buyQuantity, sellQuantity)\n",
    "                        print(f\"Matched: {matchedQuantity} shares of {ticker} at ${sellPrice:.2f}\")\n",
    "\n",
    "                        buyQuantity -= matchedQuantity\n",
    "                        sellQuantity -= matchedQuantity\n",
    "\n",
    "                        if sellQuantity == 0:\n",
    "                            matchedSellIndices.append(j)\n",
    "                        else:\n",
    "                            sellOrders[j] = (sellTicker, sellQuantity, sellPrice)\n",
    "\n",
    "                        if buyQuantity == 0:\n",
    "                            matchedBuyIndices.append(i)\n",
    "                            break\n",
    "                        else:\n",
    "                            buyOrders[i] = (ticker, buyQuantity, buyPrice)\n",
    "\n",
    "           \n",
    "            for index in sorted(matchedSellIndices, reverse=True):\n",
    "                sellOrders.pop(index)\n",
    "\n",
    "            for index in sorted(matchedBuyIndices, reverse=True):\n",
    "                buyOrders.pop(index)\n",
    "\n",
    "        time.sleep(1)\n",
    "\n",
    "def simulateStocks():\n",
    "    orderTypes = [\"Buy\", \"Sell\"]\n",
    "\n",
    "    while True:\n",
    "        orderType = random.choice(orderTypes)\n",
    "        tickerSymbol = f'TICKER{random.randint(1, 1024)}'\n",
    "        quantity = random.randint(1, 100)\n",
    "        price = round(random.uniform(0.01, 100.00), 2)\n",
    "\n",
    "        addOrder(orderType, tickerSymbol, quantity, price)\n",
    "        time.sleep(1)\n",
    "\n",
    "matchingThread = threading.Thread(target=matchOrder)\n",
    "matchingThread.start()\n",
    "\n",
    "simulateStocks()"
   ]
  },
  {
   "cell_type": "code",
   "execution_count": null,
   "id": "d2b9f39e-36e2-4cd0-851d-4a4f76bb4162",
   "metadata": {},
   "outputs": [],
   "source": []
  }
 ],
 "metadata": {
  "kernelspec": {
   "display_name": "Python 3 (ipykernel)",
   "language": "python",
   "name": "python3"
  },
  "language_info": {
   "codemirror_mode": {
    "name": "ipython",
    "version": 3
   },
   "file_extension": ".py",
   "mimetype": "text/x-python",
   "name": "python",
   "nbconvert_exporter": "python",
   "pygments_lexer": "ipython3",
   "version": "3.11.5"
  }
 },
 "nbformat": 4,
 "nbformat_minor": 5
}
